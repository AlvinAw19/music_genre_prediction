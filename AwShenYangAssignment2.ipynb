{
 "cells": [
  {
   "cell_type": "markdown",
   "id": "4775b495",
   "metadata": {},
   "source": [
    "# FIT1043 Introduction to Data Science\n",
    "\n",
    "## Assignment 2\n",
    "### Aw Shen Yang \n",
    "### 33520089"
   ]
  },
  {
   "cell_type": "markdown",
   "id": "524c85c2",
   "metadata": {},
   "source": [
    "# Introduction\n"
   ]
  },
  {
   "cell_type": "markdown",
   "id": "ed4aa0af",
   "metadata": {},
   "source": [
    "The purpose of this report is to conduct predictive analytics and clustering analysis by building predictive models and applying k-means clustering on datasets using Python in the Jupyter Notebook environment. These datasets contain features of songs and their music genres, aiming to explore the effectiveness of different machine learning algorithms in predicting music genres and identifying clusters based on movie's IMDb ratings and gross value.\n",
    "\n",
    "The report's outline consists of:\n",
    "1. Introduction\n",
    "2. Importing Necessary Libraries\n",
    "3. Read and describe the data using basic statistics\n",
    "4. Split the dataset into training and testing\n",
    "5. Conduct multi-class classification using Support Vector Machine (SVM)\n",
    "6. Evaluate and compare predictive models\n",
    "7. Explore different datasets and select a particular dataset that meets certain criteria\n",
    "8. Deal wit hmissing data\n",
    "9. Conduct clustering using k-means\n",
    "10. Conclusion\n",
    "11. References"
   ]
  },
  {
   "cell_type": "code",
   "execution_count": 1,
   "id": "79d69d64",
   "metadata": {},
   "outputs": [],
   "source": [
    "import pandas as pd\n",
    "import matplotlib.pyplot as plt\n",
    "from sklearn.model_selection import train_test_split\n",
    "from sklearn.preprocessing import StandardScaler\n",
    "from sklearn.svm import SVC\n",
    "from sklearn.ensemble import RandomForestClassifier\n",
    "from sklearn.metrics import confusion_matrix\n",
    "import numpy as np\n",
    "from sklearn.cluster import KMeans\n",
    "from sklearn.metrics import silhouette_score"
   ]
  },
  {
   "cell_type": "markdown",
   "id": "26390c42",
   "metadata": {},
   "source": [
    "# Part A: Classification\n",
    "### A1. Supervised Learning"
   ]
  },
  {
   "cell_type": "markdown",
   "id": "3b069895",
   "metadata": {},
   "source": [
    "#### A1.1. Explain supervised machine learning, the notion of labelled data, and train and test datasets\n",
    "Supervised Machine Learning:\n",
    "\n",
    "- Supervised machine learning, is a subcategory of machine learning and artificial intelligence, and is use to train predictive models by using both input and output data pairs (labelled data). \n",
    "- In the process of training, algorithms learn patterns and relationships within the data in order to make accurate predictions on unseen new data sets. \n",
    "- For example, common tasks in supervised learning include:\n",
    "- Classification, where the output variable is categorical. \n",
    "- Regression, where the output variable is continuous.\n",
    "\n",
    "Labeled Data:\n",
    "\n",
    "- Labeled data consists of input examples matched with corresponding output labels.\n",
    "- These labels represent the correct outcomes that the model aims to predict during training.\n",
    "- For example, in a classification task, each example will be labeled with the correct class or category.\n",
    "\n",
    "Train and Test Datasets:\n",
    "\n",
    "- The training dataset is used to train the model by supplying input and output data pairs, allowing the model to learn from the data. \n",
    "- After training, the test dataset is used to evaluate the performance of the trained model on unseen data. Classification metrics such as accuracy, sensitivity, specificity, false positive rate and precision are commonly used to measure the model's performance on the test dataset.\n",
    "- Normally the datasets are splited 75% for training and 25% for testing but this can vary depends on the size and nature of the dataset. \n"
   ]
  },
  {
   "cell_type": "markdown",
   "id": "ce4faedf",
   "metadata": {},
   "source": [
    "#### A1.2. Readthe ‘FIT1043-MusicGenre-Dataset.csv’ file and separate the features and the label (Hint: the label, in this case, is the ‘music_genre’)"
   ]
  },
  {
   "cell_type": "code",
   "execution_count": 2,
   "id": "527b4219",
   "metadata": {},
   "outputs": [
    {
     "data": {
      "text/html": [
       "<div>\n",
       "<style scoped>\n",
       "    .dataframe tbody tr th:only-of-type {\n",
       "        vertical-align: middle;\n",
       "    }\n",
       "\n",
       "    .dataframe tbody tr th {\n",
       "        vertical-align: top;\n",
       "    }\n",
       "\n",
       "    .dataframe thead th {\n",
       "        text-align: right;\n",
       "    }\n",
       "</style>\n",
       "<table border=\"1\" class=\"dataframe\">\n",
       "  <thead>\n",
       "    <tr style=\"text-align: right;\">\n",
       "      <th></th>\n",
       "      <th>instance_id</th>\n",
       "      <th>artist_name</th>\n",
       "      <th>track_name</th>\n",
       "      <th>popularity</th>\n",
       "      <th>acousticness</th>\n",
       "      <th>danceability</th>\n",
       "      <th>duration_ms</th>\n",
       "      <th>energy</th>\n",
       "      <th>instrumentalness</th>\n",
       "      <th>liveness</th>\n",
       "      <th>loudness</th>\n",
       "      <th>speechiness</th>\n",
       "      <th>tempo</th>\n",
       "      <th>valence</th>\n",
       "      <th>music_genre</th>\n",
       "    </tr>\n",
       "  </thead>\n",
       "  <tbody>\n",
       "    <tr>\n",
       "      <th>0</th>\n",
       "      <td>77382</td>\n",
       "      <td>Sheena Ringo</td>\n",
       "      <td>獣ゆく細道</td>\n",
       "      <td>48</td>\n",
       "      <td>0.01340</td>\n",
       "      <td>0.423</td>\n",
       "      <td>224053</td>\n",
       "      <td>0.799</td>\n",
       "      <td>0.000004</td>\n",
       "      <td>0.1470</td>\n",
       "      <td>-4.227</td>\n",
       "      <td>0.0447</td>\n",
       "      <td>124.626</td>\n",
       "      <td>0.5560</td>\n",
       "      <td>1</td>\n",
       "    </tr>\n",
       "    <tr>\n",
       "      <th>1</th>\n",
       "      <td>23554</td>\n",
       "      <td>empty_field</td>\n",
       "      <td>Fossil Roo</td>\n",
       "      <td>22</td>\n",
       "      <td>0.86200</td>\n",
       "      <td>0.590</td>\n",
       "      <td>151067</td>\n",
       "      <td>0.221</td>\n",
       "      <td>0.468000</td>\n",
       "      <td>0.0736</td>\n",
       "      <td>-16.338</td>\n",
       "      <td>0.0383</td>\n",
       "      <td>129.984</td>\n",
       "      <td>0.0331</td>\n",
       "      <td>1</td>\n",
       "    </tr>\n",
       "    <tr>\n",
       "      <th>2</th>\n",
       "      <td>82886</td>\n",
       "      <td>The Beatles</td>\n",
       "      <td>Dear Prudence - 2018 Mix</td>\n",
       "      <td>62</td>\n",
       "      <td>0.09040</td>\n",
       "      <td>0.395</td>\n",
       "      <td>234973</td>\n",
       "      <td>0.538</td>\n",
       "      <td>0.000453</td>\n",
       "      <td>0.0685</td>\n",
       "      <td>-10.300</td>\n",
       "      <td>0.0456</td>\n",
       "      <td>150.785</td>\n",
       "      <td>0.3690</td>\n",
       "      <td>9</td>\n",
       "    </tr>\n",
       "    <tr>\n",
       "      <th>3</th>\n",
       "      <td>37772</td>\n",
       "      <td>Pink Floyd</td>\n",
       "      <td>Have a Cigar</td>\n",
       "      <td>64</td>\n",
       "      <td>0.40700</td>\n",
       "      <td>0.454</td>\n",
       "      <td>307733</td>\n",
       "      <td>0.650</td>\n",
       "      <td>0.049800</td>\n",
       "      <td>0.5890</td>\n",
       "      <td>-10.191</td>\n",
       "      <td>0.0437</td>\n",
       "      <td>120.154</td>\n",
       "      <td>0.7200</td>\n",
       "      <td>9</td>\n",
       "    </tr>\n",
       "    <tr>\n",
       "      <th>4</th>\n",
       "      <td>80191</td>\n",
       "      <td>A-Trak</td>\n",
       "      <td>Push</td>\n",
       "      <td>43</td>\n",
       "      <td>0.00145</td>\n",
       "      <td>0.642</td>\n",
       "      <td>213512</td>\n",
       "      <td>0.877</td>\n",
       "      <td>0.002790</td>\n",
       "      <td>0.0984</td>\n",
       "      <td>-2.878</td>\n",
       "      <td>0.0450</td>\n",
       "      <td>126.058</td>\n",
       "      <td>0.4960</td>\n",
       "      <td>5</td>\n",
       "    </tr>\n",
       "  </tbody>\n",
       "</table>\n",
       "</div>"
      ],
      "text/plain": [
       "   instance_id   artist_name                track_name  popularity  \\\n",
       "0        77382  Sheena Ringo                     獣ゆく細道          48   \n",
       "1        23554   empty_field                Fossil Roo          22   \n",
       "2        82886   The Beatles  Dear Prudence - 2018 Mix          62   \n",
       "3        37772    Pink Floyd              Have a Cigar          64   \n",
       "4        80191        A-Trak                      Push          43   \n",
       "\n",
       "   acousticness  danceability  duration_ms  energy  instrumentalness  \\\n",
       "0       0.01340         0.423       224053   0.799          0.000004   \n",
       "1       0.86200         0.590       151067   0.221          0.468000   \n",
       "2       0.09040         0.395       234973   0.538          0.000453   \n",
       "3       0.40700         0.454       307733   0.650          0.049800   \n",
       "4       0.00145         0.642       213512   0.877          0.002790   \n",
       "\n",
       "   liveness  loudness  speechiness    tempo  valence  music_genre  \n",
       "0    0.1470    -4.227       0.0447  124.626   0.5560            1  \n",
       "1    0.0736   -16.338       0.0383  129.984   0.0331            1  \n",
       "2    0.0685   -10.300       0.0456  150.785   0.3690            9  \n",
       "3    0.5890   -10.191       0.0437  120.154   0.7200            9  \n",
       "4    0.0984    -2.878       0.0450  126.058   0.4960            5  "
      ]
     },
     "execution_count": 2,
     "metadata": {},
     "output_type": "execute_result"
    }
   ],
   "source": [
    "dataset = pd.read_csv('FIT1043-MusicGenre-Dataset.csv')\n",
    "dataset.head()"
   ]
  },
  {
   "cell_type": "code",
   "execution_count": 3,
   "id": "f3a1b7e7",
   "metadata": {},
   "outputs": [
    {
     "data": {
      "text/plain": [
       "(25958, 15)"
      ]
     },
     "execution_count": 3,
     "metadata": {},
     "output_type": "execute_result"
    }
   ],
   "source": [
    "dataset.shape"
   ]
  },
  {
   "cell_type": "code",
   "execution_count": 4,
   "id": "962b367d",
   "metadata": {},
   "outputs": [],
   "source": [
    "# separate the features and label\n",
    "# pick all columns to train and test except instance id, artist name \n",
    "# and track name to increase the accuracy.\n",
    "X = dataset.iloc[:, [3,4,5,6,7,8,9,10,11,12,13]].values \n",
    "\n",
    "# separate the label: music genre, which is in the last column\n",
    "y = dataset.iloc[:,-1].values "
   ]
  },
  {
   "cell_type": "markdown",
   "id": "b98c7520",
   "metadata": {},
   "source": [
    "#### A1.3. Use the sklearn.model_selection.train_test_split function to split your data for training and testing."
   ]
  },
  {
   "cell_type": "code",
   "execution_count": 5,
   "id": "0d7891e2",
   "metadata": {},
   "outputs": [],
   "source": [
    "# Split the data into training and testing sets\n",
    "# test size is set to 0.25, 75% of the data is trained and \n",
    "# 25% will be used to test it\n",
    "# X contains features of data \n",
    "# y contains target value of data\n",
    "X_train, X_test, y_train, y_test = train_test_split(\n",
    "    X, y, test_size= 0.25, random_state = 0)"
   ]
  },
  {
   "cell_type": "markdown",
   "id": "f22ed521",
   "metadata": {},
   "source": [
    "### A2. Classification(training)"
   ]
  },
  {
   "cell_type": "markdown",
   "id": "303ed8f7",
   "metadata": {},
   "source": [
    "#### A2.1. Explain the difference(s) between binary and multi-class classification.\n",
    "\n",
    "1. Decision Boundary and Class Prediction. \n",
    "- Binary Classification - The decision boundary separates two classes where each data sample is assigned one and only one label from two mutually exclusive classes.\n",
    "- Multi-Class classification - Multiple decision boundaries are required to separate three or more classes where each data sample is assigned one and only one label from more than two classes.\n",
    "\n",
    "2. Output Representation\n",
    "- Binary Classification - the output is usually represented as binary value, 0 or 1. \n",
    "- Multi-Class classification - the output is usually represented in one-hot encoding or interger labels corresponding to different classes.\n",
    "\n",
    "3. Size of confusion matrix:\n",
    "- Binary Classification - 2x2 matrix, representing the counts of true positives, false positives, true negatives, and false negatives.\n",
    "- Multi-Class classification - depends on the number of classes being predicted, with each row and column corresponding to different classes.\n",
    "\n",
    "4. Example\n",
    "- Binary Classification - spam detection(spam or not spam), Medical testing (healthy or diseased), and sentiment analysis (positive or negative sentiment).\n",
    "- Multi-Class classification - image recognition (recognizing different types of vegetables), music genre categorization (classifying music into different genres), and product categorization in e-commerce (assigning products to various categories such as electronics, clothing, or home goods).\n"
   ]
  },
  {
   "cell_type": "markdown",
   "id": "84592cf4",
   "metadata": {},
   "source": [
    "####  A2.2. In preparation for classification, your data should be normalised/scaled. \n",
    "\n",
    "#### a. Describe what you understand from this need to normalise data (this is in your Week 7 applied session).\n",
    "Normalization, also known as feature scaling, is important in preparing data for machine learning algorithms. \n",
    "\n",
    "Raw data often contains features with varying scales and range. In some algorithms, such as those based on distance calculations (e.g., k-nearest neighbors, support vector machines), features with larger scales can dominate those with smaller scales, leading to biased models.\n",
    "\n",
    "For instance, imagine a dataset containing features like age (ranging from 0 to 100) and income (ranging from 20,000 to 200,000). Without normalization, it will cause bias as the model might prioritize income over age due to its larger scale, leading to inaccurate results. \n",
    "\n",
    "Therefore, normalization makes sure that all the different features in our data have a fair chance of being considered by the model. It does this by adjusting the scale of each features so that they are all in a similar range. This reduces bias and improves convergence speed. As a result, the model becomes more stable, runs faster, and performs better across different types of machine learning tasks. \n",
    "\n",
    "####  b. Choose and use the appropriate normalisation functions available in sklearn.preprocessing and scale the data appropriately."
   ]
  },
  {
   "cell_type": "code",
   "execution_count": 6,
   "id": "67368a68",
   "metadata": {},
   "outputs": [],
   "source": [
    "sc = StandardScaler()\n",
    "X_train_sc = sc.fit_transform(X_train)\n",
    "X_test_sc = sc.transform(X_test)"
   ]
  },
  {
   "cell_type": "markdown",
   "id": "587811f4",
   "metadata": {},
   "source": [
    "#### A2.3. Use the Support Vector Machine algorithm to build the model.\n",
    "##### a. Describe SVM. Again, this is not in your lecture content, you need to do some self-learning.\n",
    "a. Support Vector Machine (SVM):\n",
    "\n",
    "Support Vector Machine (SVM) is a powerful supervised machine learning algorithm used for both classification and regression tasks. It works by finding the best possible line or boundary, also called hyperplane, which separates different classes of data points in an N-dimensional space by maximizing the margin, which is the distance between the hyperplane and the nearest data points of each class. As a result, it ensure the model is strong and able to work well with new data by keeping the different groups of data separate. This helps the model classify things more accurately. As the nearest data points are also known as support vectors, therefore the algorithm is called Support Vector Machine Algorithm.\n",
    "\n",
    "SVMs use special functions called kernel functions to transform the data into a space where it's easier to draw this boundary. This allows SVM to solve complex non-linear problems such as image classification, text classification, and bioinformatics, by looking at the data from different angles.\n",
    "\n",
    "The C parameter in SVM balances between underfitting and overfitting on the training data. A smaller C makes the margin wider and more misclassification while a larger C makes the margin narrower and aims to minimize errors and potentially more overfitting.\n",
    "\n",
    "##### b. In SVM, there is something called the kernel. Explain what you understand from it.\n",
    "b. Kernel in SVM:\n",
    "\n",
    "In SVM, a kernel is like a special function that helps to change how we look at the data. It transforms the input data into a higher-dimensional space, making it easier to separate different groups of data points with a hyperplane. Kernels are useful for handling non-linear data, as they help find a new perspective where a straight line can separate the groups. There are different types of kernel functions, like linear, polynomial, and radial basis function (RBF), and the one we choose affects how well the SVM works. \n",
    "\n",
    "For example, in my case which is music genre prediction, radial basis function (RBF) kernel is used because music data shows complex and non-linear relationship between various features such as acousticness, danceability and energy. This kernel transforms the data in a way that helps the SVM model accurately classify music genres based on the patterns it finds.\n",
    "\n",
    "##### c. Write the code to build a predictive SVM model using your training dataset.(Note: You are allowed to engineer or remove features as you deem appropriate)"
   ]
  },
  {
   "cell_type": "code",
   "execution_count": 7,
   "id": "04c0508d",
   "metadata": {},
   "outputs": [
    {
     "data": {
      "text/html": [
       "<style>#sk-container-id-1 {color: black;}#sk-container-id-1 pre{padding: 0;}#sk-container-id-1 div.sk-toggleable {background-color: white;}#sk-container-id-1 label.sk-toggleable__label {cursor: pointer;display: block;width: 100%;margin-bottom: 0;padding: 0.3em;box-sizing: border-box;text-align: center;}#sk-container-id-1 label.sk-toggleable__label-arrow:before {content: \"▸\";float: left;margin-right: 0.25em;color: #696969;}#sk-container-id-1 label.sk-toggleable__label-arrow:hover:before {color: black;}#sk-container-id-1 div.sk-estimator:hover label.sk-toggleable__label-arrow:before {color: black;}#sk-container-id-1 div.sk-toggleable__content {max-height: 0;max-width: 0;overflow: hidden;text-align: left;background-color: #f0f8ff;}#sk-container-id-1 div.sk-toggleable__content pre {margin: 0.2em;color: black;border-radius: 0.25em;background-color: #f0f8ff;}#sk-container-id-1 input.sk-toggleable__control:checked~div.sk-toggleable__content {max-height: 200px;max-width: 100%;overflow: auto;}#sk-container-id-1 input.sk-toggleable__control:checked~label.sk-toggleable__label-arrow:before {content: \"▾\";}#sk-container-id-1 div.sk-estimator input.sk-toggleable__control:checked~label.sk-toggleable__label {background-color: #d4ebff;}#sk-container-id-1 div.sk-label input.sk-toggleable__control:checked~label.sk-toggleable__label {background-color: #d4ebff;}#sk-container-id-1 input.sk-hidden--visually {border: 0;clip: rect(1px 1px 1px 1px);clip: rect(1px, 1px, 1px, 1px);height: 1px;margin: -1px;overflow: hidden;padding: 0;position: absolute;width: 1px;}#sk-container-id-1 div.sk-estimator {font-family: monospace;background-color: #f0f8ff;border: 1px dotted black;border-radius: 0.25em;box-sizing: border-box;margin-bottom: 0.5em;}#sk-container-id-1 div.sk-estimator:hover {background-color: #d4ebff;}#sk-container-id-1 div.sk-parallel-item::after {content: \"\";width: 100%;border-bottom: 1px solid gray;flex-grow: 1;}#sk-container-id-1 div.sk-label:hover label.sk-toggleable__label {background-color: #d4ebff;}#sk-container-id-1 div.sk-serial::before {content: \"\";position: absolute;border-left: 1px solid gray;box-sizing: border-box;top: 0;bottom: 0;left: 50%;z-index: 0;}#sk-container-id-1 div.sk-serial {display: flex;flex-direction: column;align-items: center;background-color: white;padding-right: 0.2em;padding-left: 0.2em;position: relative;}#sk-container-id-1 div.sk-item {position: relative;z-index: 1;}#sk-container-id-1 div.sk-parallel {display: flex;align-items: stretch;justify-content: center;background-color: white;position: relative;}#sk-container-id-1 div.sk-item::before, #sk-container-id-1 div.sk-parallel-item::before {content: \"\";position: absolute;border-left: 1px solid gray;box-sizing: border-box;top: 0;bottom: 0;left: 50%;z-index: -1;}#sk-container-id-1 div.sk-parallel-item {display: flex;flex-direction: column;z-index: 1;position: relative;background-color: white;}#sk-container-id-1 div.sk-parallel-item:first-child::after {align-self: flex-end;width: 50%;}#sk-container-id-1 div.sk-parallel-item:last-child::after {align-self: flex-start;width: 50%;}#sk-container-id-1 div.sk-parallel-item:only-child::after {width: 0;}#sk-container-id-1 div.sk-dashed-wrapped {border: 1px dashed gray;margin: 0 0.4em 0.5em 0.4em;box-sizing: border-box;padding-bottom: 0.4em;background-color: white;}#sk-container-id-1 div.sk-label label {font-family: monospace;font-weight: bold;display: inline-block;line-height: 1.2em;}#sk-container-id-1 div.sk-label-container {text-align: center;}#sk-container-id-1 div.sk-container {/* jupyter's `normalize.less` sets `[hidden] { display: none; }` but bootstrap.min.css set `[hidden] { display: none !important; }` so we also need the `!important` here to be able to override the default hidden behavior on the sphinx rendered scikit-learn.org. See: https://github.com/scikit-learn/scikit-learn/issues/21755 */display: inline-block !important;position: relative;}#sk-container-id-1 div.sk-text-repr-fallback {display: none;}</style><div id=\"sk-container-id-1\" class=\"sk-top-container\"><div class=\"sk-text-repr-fallback\"><pre>SVC(C=8)</pre><b>In a Jupyter environment, please rerun this cell to show the HTML representation or trust the notebook. <br />On GitHub, the HTML representation is unable to render, please try loading this page with nbviewer.org.</b></div><div class=\"sk-container\" hidden><div class=\"sk-item\"><div class=\"sk-estimator sk-toggleable\"><input class=\"sk-toggleable__control sk-hidden--visually\" id=\"sk-estimator-id-1\" type=\"checkbox\" checked><label for=\"sk-estimator-id-1\" class=\"sk-toggleable__label sk-toggleable__label-arrow\">SVC</label><div class=\"sk-toggleable__content\"><pre>SVC(C=8)</pre></div></div></div></div></div>"
      ],
      "text/plain": [
       "SVC(C=8)"
      ]
     },
     "execution_count": 7,
     "metadata": {},
     "output_type": "execute_result"
    }
   ],
   "source": [
    "# build SVM model\n",
    "svm_model = SVC(kernel='rbf', C = 8)  # Radial Basis Function (RBF) kernel\n",
    "svm_model.fit(X_train_sc, y_train)"
   ]
  },
  {
   "cell_type": "markdown",
   "id": "0a1bdef5",
   "metadata": {},
   "source": [
    "#### A2.4. Repeat Task A2.3.c by using another classification algorithm such as Decision Tree or Random Forest algorithms instead of SVM"
   ]
  },
  {
   "cell_type": "code",
   "execution_count": 8,
   "id": "381713c3",
   "metadata": {},
   "outputs": [
    {
     "data": {
      "text/html": [
       "<style>#sk-container-id-2 {color: black;}#sk-container-id-2 pre{padding: 0;}#sk-container-id-2 div.sk-toggleable {background-color: white;}#sk-container-id-2 label.sk-toggleable__label {cursor: pointer;display: block;width: 100%;margin-bottom: 0;padding: 0.3em;box-sizing: border-box;text-align: center;}#sk-container-id-2 label.sk-toggleable__label-arrow:before {content: \"▸\";float: left;margin-right: 0.25em;color: #696969;}#sk-container-id-2 label.sk-toggleable__label-arrow:hover:before {color: black;}#sk-container-id-2 div.sk-estimator:hover label.sk-toggleable__label-arrow:before {color: black;}#sk-container-id-2 div.sk-toggleable__content {max-height: 0;max-width: 0;overflow: hidden;text-align: left;background-color: #f0f8ff;}#sk-container-id-2 div.sk-toggleable__content pre {margin: 0.2em;color: black;border-radius: 0.25em;background-color: #f0f8ff;}#sk-container-id-2 input.sk-toggleable__control:checked~div.sk-toggleable__content {max-height: 200px;max-width: 100%;overflow: auto;}#sk-container-id-2 input.sk-toggleable__control:checked~label.sk-toggleable__label-arrow:before {content: \"▾\";}#sk-container-id-2 div.sk-estimator input.sk-toggleable__control:checked~label.sk-toggleable__label {background-color: #d4ebff;}#sk-container-id-2 div.sk-label input.sk-toggleable__control:checked~label.sk-toggleable__label {background-color: #d4ebff;}#sk-container-id-2 input.sk-hidden--visually {border: 0;clip: rect(1px 1px 1px 1px);clip: rect(1px, 1px, 1px, 1px);height: 1px;margin: -1px;overflow: hidden;padding: 0;position: absolute;width: 1px;}#sk-container-id-2 div.sk-estimator {font-family: monospace;background-color: #f0f8ff;border: 1px dotted black;border-radius: 0.25em;box-sizing: border-box;margin-bottom: 0.5em;}#sk-container-id-2 div.sk-estimator:hover {background-color: #d4ebff;}#sk-container-id-2 div.sk-parallel-item::after {content: \"\";width: 100%;border-bottom: 1px solid gray;flex-grow: 1;}#sk-container-id-2 div.sk-label:hover label.sk-toggleable__label {background-color: #d4ebff;}#sk-container-id-2 div.sk-serial::before {content: \"\";position: absolute;border-left: 1px solid gray;box-sizing: border-box;top: 0;bottom: 0;left: 50%;z-index: 0;}#sk-container-id-2 div.sk-serial {display: flex;flex-direction: column;align-items: center;background-color: white;padding-right: 0.2em;padding-left: 0.2em;position: relative;}#sk-container-id-2 div.sk-item {position: relative;z-index: 1;}#sk-container-id-2 div.sk-parallel {display: flex;align-items: stretch;justify-content: center;background-color: white;position: relative;}#sk-container-id-2 div.sk-item::before, #sk-container-id-2 div.sk-parallel-item::before {content: \"\";position: absolute;border-left: 1px solid gray;box-sizing: border-box;top: 0;bottom: 0;left: 50%;z-index: -1;}#sk-container-id-2 div.sk-parallel-item {display: flex;flex-direction: column;z-index: 1;position: relative;background-color: white;}#sk-container-id-2 div.sk-parallel-item:first-child::after {align-self: flex-end;width: 50%;}#sk-container-id-2 div.sk-parallel-item:last-child::after {align-self: flex-start;width: 50%;}#sk-container-id-2 div.sk-parallel-item:only-child::after {width: 0;}#sk-container-id-2 div.sk-dashed-wrapped {border: 1px dashed gray;margin: 0 0.4em 0.5em 0.4em;box-sizing: border-box;padding-bottom: 0.4em;background-color: white;}#sk-container-id-2 div.sk-label label {font-family: monospace;font-weight: bold;display: inline-block;line-height: 1.2em;}#sk-container-id-2 div.sk-label-container {text-align: center;}#sk-container-id-2 div.sk-container {/* jupyter's `normalize.less` sets `[hidden] { display: none; }` but bootstrap.min.css set `[hidden] { display: none !important; }` so we also need the `!important` here to be able to override the default hidden behavior on the sphinx rendered scikit-learn.org. See: https://github.com/scikit-learn/scikit-learn/issues/21755 */display: inline-block !important;position: relative;}#sk-container-id-2 div.sk-text-repr-fallback {display: none;}</style><div id=\"sk-container-id-2\" class=\"sk-top-container\"><div class=\"sk-text-repr-fallback\"><pre>RandomForestClassifier(criterion=&#x27;entropy&#x27;, n_estimators=20, random_state=0)</pre><b>In a Jupyter environment, please rerun this cell to show the HTML representation or trust the notebook. <br />On GitHub, the HTML representation is unable to render, please try loading this page with nbviewer.org.</b></div><div class=\"sk-container\" hidden><div class=\"sk-item\"><div class=\"sk-estimator sk-toggleable\"><input class=\"sk-toggleable__control sk-hidden--visually\" id=\"sk-estimator-id-2\" type=\"checkbox\" checked><label for=\"sk-estimator-id-2\" class=\"sk-toggleable__label sk-toggleable__label-arrow\">RandomForestClassifier</label><div class=\"sk-toggleable__content\"><pre>RandomForestClassifier(criterion=&#x27;entropy&#x27;, n_estimators=20, random_state=0)</pre></div></div></div></div></div>"
      ],
      "text/plain": [
       "RandomForestClassifier(criterion='entropy', n_estimators=20, random_state=0)"
      ]
     },
     "execution_count": 8,
     "metadata": {},
     "output_type": "execute_result"
    }
   ],
   "source": [
    "# Using Random Forest algorithm\n",
    "rf_model = RandomForestClassifier(\n",
    "n_estimators = 20,\n",
    "criterion = 'entropy',\n",
    "random_state = 0\n",
    ")\n",
    "rf_model.fit(X_train_sc, y_train)"
   ]
  },
  {
   "cell_type": "markdown",
   "id": "6b6882ea",
   "metadata": {},
   "source": [
    "### A3. Classification (prediction)\n",
    "#### A3 1.Using the testing dataset you created in Task A1.3 above, conduct the prediction for the ‘music_genre’ (label) using the two models built by SVM and your other classification algorithm in A2.4."
   ]
  },
  {
   "cell_type": "code",
   "execution_count": 9,
   "id": "d1453220",
   "metadata": {},
   "outputs": [],
   "source": [
    "# Predict using SVM model\n",
    "svm_predictions = svm_model.predict(X_test_sc)"
   ]
  },
  {
   "cell_type": "code",
   "execution_count": 10,
   "id": "e6609431",
   "metadata": {},
   "outputs": [],
   "source": [
    "# Predict using Random Forest classifier\n",
    "rf_predictions = rf_model.predict(X_test_sc)"
   ]
  },
  {
   "cell_type": "markdown",
   "id": "172036d3",
   "metadata": {},
   "source": [
    "#### A3.2. Display the confusion matrices for both models (it should look like a 10x10 matrix). Unlike the lectures, where it is just a 2x2, you are now introduced to a multi-class classification problem setting."
   ]
  },
  {
   "cell_type": "code",
   "execution_count": 11,
   "id": "e421fe70",
   "metadata": {},
   "outputs": [
    {
     "name": "stdout",
     "output_type": "stream",
     "text": [
      "Confusion Matrix for SVM:\n"
     ]
    },
    {
     "data": {
      "text/plain": [
       "array([[247,   9,  10,   1, 112,  33,  66,  30,  22, 128],\n",
       "       [ 17, 495,  44,  31,  15,  25,   0,   8,   0,   4],\n",
       "       [ 37,  84, 349,  11,  74,  29,   1,  65,   1,  26],\n",
       "       [ 18,  27,  17, 563,   4,   7,   0,  26,   0,   7],\n",
       "       [ 45,  12,  40,   2, 359,  13,  14,  42,  10, 101],\n",
       "       [ 37,  30,  37,  10,  39, 372,  18,  59,   6,  23],\n",
       "       [ 32,   1,   1,   0,   9,   4, 324,   6, 223,  39],\n",
       "       [ 37,  11,  80,  43,  40,  90,  17, 327,   3,  27],\n",
       "       [ 28,   0,   0,   0,   5,   0, 281,   6, 225,  87],\n",
       "       [ 61,   0,   1,   2,  37,   3,  25,  10,  35, 458]], dtype=int64)"
      ]
     },
     "execution_count": 11,
     "metadata": {},
     "output_type": "execute_result"
    }
   ],
   "source": [
    "# Display 10x10 confusion matrices for SVM\n",
    "svm_conf_matrix = confusion_matrix(y_test, svm_predictions)\n",
    "\n",
    "print(\"Confusion Matrix for SVM:\")\n",
    "svm_conf_matrix"
   ]
  },
  {
   "cell_type": "code",
   "execution_count": 12,
   "id": "82728460",
   "metadata": {},
   "outputs": [
    {
     "name": "stdout",
     "output_type": "stream",
     "text": [
      "\n",
      "Confusion Matrix for Decision Tree:\n"
     ]
    },
    {
     "data": {
      "text/plain": [
       "array([[219,   7,  24,   0,  99,  42,  52,  38,  30, 147],\n",
       "       [ 14, 488,  41,  44,  14,  24,   0,   8,   1,   5],\n",
       "       [ 46,  87, 340,  10,  64,  37,   1,  67,   2,  23],\n",
       "       [ 17,  32,  14, 557,   4,  12,   0,  24,   0,   9],\n",
       "       [ 50,  11,  41,   1, 361,   8,  10,  39,  12, 105],\n",
       "       [ 43,  32,  66,   7,  26, 335,  11,  79,   8,  24],\n",
       "       [ 28,   0,   0,   0,   5,   6, 273,   8, 284,  35],\n",
       "       [ 37,  11, 112,  51,  35,  89,  10, 284,   9,  37],\n",
       "       [ 31,   1,   1,   0,  11,   5, 328,   5, 190,  60],\n",
       "       [101,   2,   8,   3,  59,   8,  26,  14,  45, 366]], dtype=int64)"
      ]
     },
     "execution_count": 12,
     "metadata": {},
     "output_type": "execute_result"
    }
   ],
   "source": [
    "# Display 10x10 confusion matrices for random forest\n",
    "rf_conf_matrix = confusion_matrix(y_test, rf_predictions)\n",
    "\n",
    "print(\"\\nConfusion Matrix for Decision Tree:\")\n",
    "rf_conf_matrix"
   ]
  },
  {
   "cell_type": "markdown",
   "id": "668eddf0",
   "metadata": {},
   "source": [
    "#### A3.3. Compare the performance of SVM and your other classifier and provide your justification of which one performed better."
   ]
  },
  {
   "cell_type": "code",
   "execution_count": 13,
   "id": "c576d052",
   "metadata": {},
   "outputs": [
    {
     "name": "stdout",
     "output_type": "stream",
     "text": [
      "Average SVM Metrics:\n",
      "Accuracy: 0.914607087827427\n",
      "Sensitivity: 0.5731511224065182\n",
      "Specificity: 0.952582925583951\n",
      "Precision: 0.5733372511911871\n",
      "Negative Predictive Value: 0.9527281609933503\n",
      "\n",
      "Average Random Forest Metrics:\n",
      "Accuracy: 0.9051771956856702\n",
      "Sensitivity: 0.525577329713142\n",
      "Specificity: 0.9473392986914939\n",
      "Precision: 0.5242503897860986\n",
      "Negative Predictive Value: 0.9474162299936018\n"
     ]
    }
   ],
   "source": [
    "import numpy as np\n",
    "\n",
    "# Confusion matrices\n",
    "svm_conf_matrix = np.array(svm_conf_matrix)\n",
    "\n",
    "rf_conf_matrix = np.array(rf_conf_matrix)\n",
    "\n",
    "# Function to calculate metrics\n",
    "def calculate_metrics(conf_matrix):\n",
    "    true_positives = np.diag(conf_matrix)\n",
    "    false_positives = np.sum(conf_matrix, axis=0) - true_positives\n",
    "    false_negatives = np.sum(conf_matrix, axis=1) - true_positives\n",
    "    true_negatives = np.sum(conf_matrix) - (true_positives + false_positives + false_negatives)\n",
    "\n",
    "    accuracy = (true_positives + true_negatives) / np.sum(conf_matrix)\n",
    "    sensitivity = true_positives / (true_positives + false_negatives)\n",
    "    specificity = true_negatives / (true_negatives + false_positives)\n",
    "    precision = true_positives / (true_positives + false_positives)\n",
    "    neg_pred_value = true_negatives / (true_negatives + false_negatives)\n",
    "\n",
    "    return accuracy, sensitivity, specificity, precision, neg_pred_value\n",
    "\n",
    "# Calculate metrics for SVM\n",
    "svm_accuracy, svm_sensitivity, svm_specificity, svm_precision, svm_neg_pred_value = calculate_metrics(svm_conf_matrix)\n",
    "\n",
    "# Calculate metrics for Random Forest\n",
    "rf_accuracy, rf_sensitivity, rf_specificity, rf_precision, rf_neg_pred_value = calculate_metrics(rf_conf_matrix)\n",
    "\n",
    "# Calculate average values for SVM metrics\n",
    "svm_avg_accuracy = np.mean(svm_accuracy)\n",
    "svm_avg_sensitivity = np.mean(svm_sensitivity)\n",
    "svm_avg_specificity = np.mean(svm_specificity)\n",
    "svm_avg_precision = np.mean(svm_precision)\n",
    "svm_avg_neg_pred_value = np.mean(svm_neg_pred_value)\n",
    "\n",
    "# Calculate average values for Random Forest metrics\n",
    "rf_avg_accuracy = np.mean(rf_accuracy)\n",
    "rf_avg_sensitivity = np.mean(rf_sensitivity)\n",
    "rf_avg_specificity = np.mean(rf_specificity)\n",
    "rf_avg_precision = np.mean(rf_precision)\n",
    "rf_avg_neg_pred_value = np.mean(rf_neg_pred_value)\n",
    "\n",
    "# Print out the average values\n",
    "print(\"Average SVM Metrics:\")\n",
    "print(\"Accuracy:\", svm_avg_accuracy)\n",
    "print(\"Sensitivity:\", svm_avg_sensitivity)\n",
    "print(\"Specificity:\", svm_avg_specificity)\n",
    "print(\"Precision:\", svm_avg_precision)\n",
    "print(\"Negative Predictive Value:\", svm_avg_neg_pred_value)\n",
    "print(\"\\nAverage Random Forest Metrics:\")\n",
    "print(\"Accuracy:\", rf_avg_accuracy)\n",
    "print(\"Sensitivity:\", rf_avg_sensitivity)\n",
    "print(\"Specificity:\", rf_avg_specificity)\n",
    "print(\"Precision:\", rf_avg_precision)\n",
    "print(\"Negative Predictive Value:\", rf_avg_neg_pred_value)\n"
   ]
  },
  {
   "cell_type": "markdown",
   "id": "fabbeef6",
   "metadata": {},
   "source": [
    "Based on the average metrics obtained from the SVM and Random Forest classifiers, we can analyze their performance as follows:\n",
    "\n",
    "Accuracy:\n",
    "\n",
    "SVM: The average accuracy of the SVM classifier is approximately 91.46%.\n",
    "Random Forest: The average accuracy of the Random Forest classifier is approximately 90.52%.\n",
    "Analysis: SVM performs slightly better in terms of accuracy compared to Random Forest.\n",
    "\n",
    "Sensitivity (True Positive Rate):\n",
    "\n",
    "SVM: The average sensitivity of the SVM classifier is approximately 57.32%.\n",
    "Random Forest: The average sensitivity of the Random Forest classifier is approximately 52.56%.\n",
    "Analysis: SVM demonstrates higher sensitivity, indicating its ability to correctly identify positive instances (music genres) more effectively than Random Forest.\n",
    "\n",
    "Specificity (True Negative Rate):\n",
    "\n",
    "SVM: The average specificity of the SVM classifier is approximately 95.26%.\n",
    "Random Forest: The average specificity of the Random Forest classifier is approximately 94.73%.\n",
    "Analysis: SVM exhibits slightly higher specificity, indicating its proficiency in correctly identifying negative instances (non-music genres) compared to Random Forest.\n",
    "\n",
    "Precision:\n",
    "\n",
    "SVM: The average precision of the SVM classifier is approximately 57.33%.\n",
    "Random Forest: The average precision of the Random Forest classifier is approximately 52.43%.\n",
    "Analysis: SVM achieves slightly higher precision, suggesting that when it predicts a music genre, it is more likely to be correct compared to Random Forest.\n",
    "\n",
    "Negative Predictive Value:\n",
    "\n",
    "SVM: The average negative predictive value of the SVM classifier is approximately 95.27%.\n",
    "Random Forest: The average negative predictive value of the Random Forest classifier is approximately 94.74%.\n",
    "Analysis: SVM demonstrates slightly higher negative predictive value, indicating its ability to correctly predict non-music genres more effectively than Random Forest.\n",
    "\n",
    "Overall, based on these metrics, SVM shows a slightly better performance compared to Random Forest in classifying music genres. \n",
    "\n",
    "\n",
    "\n",
    "\n"
   ]
  },
  {
   "cell_type": "markdown",
   "id": "1072e766",
   "metadata": {},
   "source": [
    "### A4. Independent evaluation\n",
    "#### A4.1. Read the ‘FIT1043-MusicGenre-Submission.csv’ file and use the best model you built earlier to predict the ‘music_genre’ for the songs in this file."
   ]
  },
  {
   "cell_type": "code",
   "execution_count": 14,
   "id": "848cb8e4",
   "metadata": {},
   "outputs": [
    {
     "data": {
      "text/plain": [
       "(6490, 14)"
      ]
     },
     "execution_count": 14,
     "metadata": {},
     "output_type": "execute_result"
    }
   ],
   "source": [
    "# Read the submission file and make predictions\n",
    "dataset_2 = pd.read_csv('FIT1043-MusicGenre-Submission.csv')\n",
    "dataset_2.shape"
   ]
  },
  {
   "cell_type": "code",
   "execution_count": 15,
   "id": "70f718b2",
   "metadata": {},
   "outputs": [
    {
     "data": {
      "text/html": [
       "<div>\n",
       "<style scoped>\n",
       "    .dataframe tbody tr th:only-of-type {\n",
       "        vertical-align: middle;\n",
       "    }\n",
       "\n",
       "    .dataframe tbody tr th {\n",
       "        vertical-align: top;\n",
       "    }\n",
       "\n",
       "    .dataframe thead th {\n",
       "        text-align: right;\n",
       "    }\n",
       "</style>\n",
       "<table border=\"1\" class=\"dataframe\">\n",
       "  <thead>\n",
       "    <tr style=\"text-align: right;\">\n",
       "      <th></th>\n",
       "      <th>instance_id</th>\n",
       "      <th>artist_name</th>\n",
       "      <th>track_name</th>\n",
       "      <th>popularity</th>\n",
       "      <th>acousticness</th>\n",
       "      <th>danceability</th>\n",
       "      <th>duration_ms</th>\n",
       "      <th>energy</th>\n",
       "      <th>instrumentalness</th>\n",
       "      <th>liveness</th>\n",
       "      <th>loudness</th>\n",
       "      <th>speechiness</th>\n",
       "      <th>tempo</th>\n",
       "      <th>valence</th>\n",
       "    </tr>\n",
       "  </thead>\n",
       "  <tbody>\n",
       "    <tr>\n",
       "      <th>0</th>\n",
       "      <td>49290</td>\n",
       "      <td>The Wood Brothers</td>\n",
       "      <td>One Drop of Truth</td>\n",
       "      <td>27</td>\n",
       "      <td>0.06240</td>\n",
       "      <td>0.436</td>\n",
       "      <td>218227</td>\n",
       "      <td>0.663</td>\n",
       "      <td>0.001510</td>\n",
       "      <td>0.0759</td>\n",
       "      <td>-5.897</td>\n",
       "      <td>0.0510</td>\n",
       "      <td>117.956</td>\n",
       "      <td>0.360</td>\n",
       "    </tr>\n",
       "    <tr>\n",
       "      <th>1</th>\n",
       "      <td>81619</td>\n",
       "      <td>Pusha T</td>\n",
       "      <td>Hard Piano</td>\n",
       "      <td>62</td>\n",
       "      <td>0.03470</td>\n",
       "      <td>0.582</td>\n",
       "      <td>195733</td>\n",
       "      <td>0.778</td>\n",
       "      <td>0.000000</td>\n",
       "      <td>0.2100</td>\n",
       "      <td>-3.776</td>\n",
       "      <td>0.1780</td>\n",
       "      <td>82.193</td>\n",
       "      <td>0.205</td>\n",
       "    </tr>\n",
       "    <tr>\n",
       "      <th>2</th>\n",
       "      <td>31979</td>\n",
       "      <td>EXILE</td>\n",
       "      <td>運命のヒト - EXILE BALLAD BEST</td>\n",
       "      <td>35</td>\n",
       "      <td>0.69200</td>\n",
       "      <td>0.269</td>\n",
       "      <td>324480</td>\n",
       "      <td>0.331</td>\n",
       "      <td>0.000000</td>\n",
       "      <td>0.0851</td>\n",
       "      <td>-9.253</td>\n",
       "      <td>0.0338</td>\n",
       "      <td>139.338</td>\n",
       "      <td>0.250</td>\n",
       "    </tr>\n",
       "    <tr>\n",
       "      <th>3</th>\n",
       "      <td>35985</td>\n",
       "      <td>empty_field</td>\n",
       "      <td>Nobody</td>\n",
       "      <td>47</td>\n",
       "      <td>0.68200</td>\n",
       "      <td>0.428</td>\n",
       "      <td>256267</td>\n",
       "      <td>0.454</td>\n",
       "      <td>0.000005</td>\n",
       "      <td>0.2160</td>\n",
       "      <td>-9.952</td>\n",
       "      <td>0.4940</td>\n",
       "      <td>173.272</td>\n",
       "      <td>0.573</td>\n",
       "    </tr>\n",
       "    <tr>\n",
       "      <th>4</th>\n",
       "      <td>25426</td>\n",
       "      <td>Rammstein</td>\n",
       "      <td>OHNE DICH</td>\n",
       "      <td>48</td>\n",
       "      <td>0.00409</td>\n",
       "      <td>0.404</td>\n",
       "      <td>271173</td>\n",
       "      <td>0.599</td>\n",
       "      <td>0.000252</td>\n",
       "      <td>0.1130</td>\n",
       "      <td>-5.565</td>\n",
       "      <td>0.0289</td>\n",
       "      <td>136.045</td>\n",
       "      <td>0.195</td>\n",
       "    </tr>\n",
       "  </tbody>\n",
       "</table>\n",
       "</div>"
      ],
      "text/plain": [
       "   instance_id        artist_name                 track_name  popularity  \\\n",
       "0        49290  The Wood Brothers          One Drop of Truth          27   \n",
       "1        81619            Pusha T                 Hard Piano          62   \n",
       "2        31979              EXILE  運命のヒト - EXILE BALLAD BEST          35   \n",
       "3        35985        empty_field                     Nobody          47   \n",
       "4        25426          Rammstein                  OHNE DICH          48   \n",
       "\n",
       "   acousticness  danceability  duration_ms  energy  instrumentalness  \\\n",
       "0       0.06240         0.436       218227   0.663          0.001510   \n",
       "1       0.03470         0.582       195733   0.778          0.000000   \n",
       "2       0.69200         0.269       324480   0.331          0.000000   \n",
       "3       0.68200         0.428       256267   0.454          0.000005   \n",
       "4       0.00409         0.404       271173   0.599          0.000252   \n",
       "\n",
       "   liveness  loudness  speechiness    tempo  valence  \n",
       "0    0.0759    -5.897       0.0510  117.956    0.360  \n",
       "1    0.2100    -3.776       0.1780   82.193    0.205  \n",
       "2    0.0851    -9.253       0.0338  139.338    0.250  \n",
       "3    0.2160    -9.952       0.4940  173.272    0.573  \n",
       "4    0.1130    -5.565       0.0289  136.045    0.195  "
      ]
     },
     "execution_count": 15,
     "metadata": {},
     "output_type": "execute_result"
    }
   ],
   "source": [
    "dataset_2.head()"
   ]
  },
  {
   "cell_type": "code",
   "execution_count": 16,
   "id": "3616a0c2",
   "metadata": {},
   "outputs": [],
   "source": [
    "X_2 = dataset_2.iloc[:, 3:].values\n",
    "\n",
    "X_submission_sc = sc.transform(X_2)\n",
    "\n",
    "# Make predictions using SVM model\n",
    "submission_predictions = svm_model.predict(X_submission_sc)"
   ]
  },
  {
   "cell_type": "markdown",
   "id": "820dde35",
   "metadata": {},
   "source": [
    "#### A4.2. Unlike the previous section in which you have a testing dataset where you know the ‘music_genre’ class and will be able to test for the accuracy, in this part, you don’t have a ‘music_genre’ and you have to predict it and submit the predictions along with other required submission files. a. Output of your predictions should be submitted in a CSV file format. It should contain 2 columns: ‘instance_id’ and ‘music_genre’. It should have a total of 6491 lines (1 header, and 6490 entries)"
   ]
  },
  {
   "cell_type": "code",
   "execution_count": 17,
   "id": "b7f2ca00",
   "metadata": {},
   "outputs": [],
   "source": [
    "# Output predictions to CSV\n",
    "dataset_2['music_genre'] = submission_predictions\n",
    "dataset_2.to_csv('33520089-AwShenYang-v6.csv', columns = ['instance_id', 'music_genre'], index=False)"
   ]
  },
  {
   "cell_type": "markdown",
   "id": "924b9e94",
   "metadata": {},
   "source": [
    "### A5 Kaggle Competition\n",
    "\n",
    " “33520089-AwShenYang-v2.csv” is submitted to Kaggle"
   ]
  },
  {
   "cell_type": "markdown",
   "id": "c208eb76",
   "metadata": {},
   "source": [
    "### Part B : Selection of Dataset and perform Clustering"
   ]
  },
  {
   "cell_type": "markdown",
   "id": "5ed8a844",
   "metadata": {},
   "source": [
    "### B1. Selection of a Dataset with missing Clustering data,\n",
    " We have demonstrated a k-means clustering algorithm in week 7.\n",
    " Your task in this part is to find an interesting dataset and apply\n",
    " k-means clustering on it using Python. For instance, Kaggle is a\n",
    " private company which runs data science competitions and provides\n",
    " https://www.kaggle.com/datasets\n",
    "#### B1.1. Select a suitable dataset that contains some missing data and at least two numerical features. Please note you cannot use the same data set used in the applied sessions/lectures in this unit. Please include a link to your dataset in your report. You may wish to:\n",
    "#### ● provide the direct link to the public dataset from the internet, or\n",
    "#### ● place the data file in your Monash student- google drive and provide its link in the submission."
   ]
  },
  {
   "cell_type": "markdown",
   "id": "e4c47360",
   "metadata": {},
   "source": [
    "This is a dataset I have selected\n",
    "\n",
    "https://www.kaggle.com/datasets/prishasawhney/imdb-dataset-top-2000-movies\n",
    "\n",
    "This dataset is scraped from IMDB's official website. and contains information as below: \n",
    "- The name of the movie\n",
    "- The Year of release\n",
    "- The running time of the movie (in minutes)\n",
    "- It's IMDB Rating\n",
    "- It's metascore\n",
    "- The number of votes it got\n",
    "- The Genre of the movie\n",
    "- The director of the movie\n",
    "- The cast of the movie\n",
    "- Gross value"
   ]
  },
  {
   "cell_type": "markdown",
   "id": "69206f95",
   "metadata": {},
   "source": [
    "#### B1.2. Perform k-means clustering, choosing two numerical features in your dataset, and apply k-means clustering to your data to create k clusters in Python (k>=2)"
   ]
  },
  {
   "cell_type": "code",
   "execution_count": 18,
   "id": "be9f0fda",
   "metadata": {},
   "outputs": [],
   "source": [
    "df = pd.read_csv('imdb_top_2000_movies.csv')"
   ]
  },
  {
   "cell_type": "code",
   "execution_count": 19,
   "id": "7060cccb",
   "metadata": {},
   "outputs": [
    {
     "data": {
      "text/html": [
       "<div>\n",
       "<style scoped>\n",
       "    .dataframe tbody tr th:only-of-type {\n",
       "        vertical-align: middle;\n",
       "    }\n",
       "\n",
       "    .dataframe tbody tr th {\n",
       "        vertical-align: top;\n",
       "    }\n",
       "\n",
       "    .dataframe thead th {\n",
       "        text-align: right;\n",
       "    }\n",
       "</style>\n",
       "<table border=\"1\" class=\"dataframe\">\n",
       "  <thead>\n",
       "    <tr style=\"text-align: right;\">\n",
       "      <th></th>\n",
       "      <th>Movie Name</th>\n",
       "      <th>Release Year</th>\n",
       "      <th>Duration</th>\n",
       "      <th>IMDB Rating</th>\n",
       "      <th>Metascore</th>\n",
       "      <th>Votes</th>\n",
       "      <th>Genre</th>\n",
       "      <th>Director</th>\n",
       "      <th>Cast</th>\n",
       "      <th>Gross</th>\n",
       "    </tr>\n",
       "  </thead>\n",
       "  <tbody>\n",
       "    <tr>\n",
       "      <th>0</th>\n",
       "      <td>The Godfather</td>\n",
       "      <td>1972</td>\n",
       "      <td>175</td>\n",
       "      <td>9.2</td>\n",
       "      <td>100.0</td>\n",
       "      <td>2,002,655</td>\n",
       "      <td>Crime, Drama</td>\n",
       "      <td>Francis Ford Coppola</td>\n",
       "      <td>Marlon Brando</td>\n",
       "      <td>$134.97M</td>\n",
       "    </tr>\n",
       "    <tr>\n",
       "      <th>1</th>\n",
       "      <td>The Godfather Part II</td>\n",
       "      <td>1974</td>\n",
       "      <td>202</td>\n",
       "      <td>9.0</td>\n",
       "      <td>90.0</td>\n",
       "      <td>1,358,608</td>\n",
       "      <td>Crime, Drama</td>\n",
       "      <td>Francis Ford Coppola</td>\n",
       "      <td>Al Pacino</td>\n",
       "      <td>$57.30M</td>\n",
       "    </tr>\n",
       "    <tr>\n",
       "      <th>2</th>\n",
       "      <td>Ordinary People</td>\n",
       "      <td>1980</td>\n",
       "      <td>124</td>\n",
       "      <td>7.7</td>\n",
       "      <td>86.0</td>\n",
       "      <td>56,476</td>\n",
       "      <td>Drama</td>\n",
       "      <td>Robert Redford</td>\n",
       "      <td>Donald Sutherland</td>\n",
       "      <td>$54.80M</td>\n",
       "    </tr>\n",
       "    <tr>\n",
       "      <th>3</th>\n",
       "      <td>Lawrence of Arabia</td>\n",
       "      <td>1962</td>\n",
       "      <td>218</td>\n",
       "      <td>8.3</td>\n",
       "      <td>100.0</td>\n",
       "      <td>313,044</td>\n",
       "      <td>Adventure, Biography, Drama</td>\n",
       "      <td>David Lean</td>\n",
       "      <td>Peter O'Toole</td>\n",
       "      <td>$44.82M</td>\n",
       "    </tr>\n",
       "    <tr>\n",
       "      <th>4</th>\n",
       "      <td>Straw Dogs</td>\n",
       "      <td>1971</td>\n",
       "      <td>113</td>\n",
       "      <td>7.4</td>\n",
       "      <td>73.0</td>\n",
       "      <td>64,331</td>\n",
       "      <td>Crime, Drama, Thriller</td>\n",
       "      <td>Sam Peckinpah</td>\n",
       "      <td>Dustin Hoffman</td>\n",
       "      <td>NaN</td>\n",
       "    </tr>\n",
       "  </tbody>\n",
       "</table>\n",
       "</div>"
      ],
      "text/plain": [
       "              Movie Name Release Year  Duration  IMDB Rating  Metascore  \\\n",
       "0          The Godfather         1972       175          9.2      100.0   \n",
       "1  The Godfather Part II         1974       202          9.0       90.0   \n",
       "2        Ordinary People         1980       124          7.7       86.0   \n",
       "3     Lawrence of Arabia         1962       218          8.3      100.0   \n",
       "4             Straw Dogs         1971       113          7.4       73.0   \n",
       "\n",
       "       Votes                        Genre              Director  \\\n",
       "0  2,002,655                 Crime, Drama  Francis Ford Coppola   \n",
       "1  1,358,608                 Crime, Drama  Francis Ford Coppola   \n",
       "2     56,476                        Drama        Robert Redford   \n",
       "3    313,044  Adventure, Biography, Drama            David Lean   \n",
       "4     64,331       Crime, Drama, Thriller         Sam Peckinpah   \n",
       "\n",
       "                Cast     Gross  \n",
       "0      Marlon Brando  $134.97M  \n",
       "1          Al Pacino   $57.30M  \n",
       "2  Donald Sutherland   $54.80M  \n",
       "3      Peter O'Toole   $44.82M  \n",
       "4     Dustin Hoffman       NaN  "
      ]
     },
     "execution_count": 19,
     "metadata": {},
     "output_type": "execute_result"
    }
   ],
   "source": [
    "df.head()"
   ]
  },
  {
   "cell_type": "code",
   "execution_count": 20,
   "id": "c641b7e4",
   "metadata": {},
   "outputs": [
    {
     "data": {
      "text/plain": [
       "(2000, 10)"
      ]
     },
     "execution_count": 20,
     "metadata": {},
     "output_type": "execute_result"
    }
   ],
   "source": [
    "df.shape"
   ]
  },
  {
   "cell_type": "code",
   "execution_count": 21,
   "id": "5f8c374a",
   "metadata": {},
   "outputs": [
    {
     "name": "stdout",
     "output_type": "stream",
     "text": [
      "Number of missing values for each column:\n",
      "Movie Name       0\n",
      "Release Year     0\n",
      "Duration         0\n",
      "IMDB Rating      0\n",
      "Metascore       81\n",
      "Votes            0\n",
      "Genre            0\n",
      "Director         0\n",
      "Cast             0\n",
      "Gross           97\n",
      "dtype: int64\n"
     ]
    }
   ],
   "source": [
    "# Check for missing values in each column\n",
    "missing_data = df.isnull().sum()\n",
    "\n",
    "# Print the number of missing values for each column\n",
    "print(\"Number of missing values for each column:\")\n",
    "print(missing_data)"
   ]
  },
  {
   "cell_type": "markdown",
   "id": "8477e429",
   "metadata": {},
   "source": [
    "There are missing value on metascore and gross value.\n",
    "The two numerical features I am chosing are **IMDB rating** and **gross value**"
   ]
  },
  {
   "cell_type": "code",
   "execution_count": 22,
   "id": "fe82f60a",
   "metadata": {},
   "outputs": [
    {
     "data": {
      "text/plain": [
       "0       134.97\n",
       "1        57.30\n",
       "2        54.80\n",
       "3        44.82\n",
       "5       132.09\n",
       "         ...  \n",
       "1995     11.00\n",
       "1996     60.02\n",
       "1997     33.31\n",
       "1998     15.28\n",
       "1999     31.69\n",
       "Name: Gross, Length: 1870, dtype: float64"
      ]
     },
     "execution_count": 22,
     "metadata": {},
     "output_type": "execute_result"
    }
   ],
   "source": [
    "# As the value of the Gross is in \"$123.45M\" string format\n",
    "# Therefore, we need to convert it the numeric first\n",
    "df['Gross'] = df['Gross'].astype(str)\n",
    "\n",
    "df['Gross'] = df['Gross'].str.replace('$', '').str.replace('M', '')\n",
    "\n",
    "df['Gross'] = pd.to_numeric(df['Gross'], errors='coerce')\n",
    "\n",
    "# Remove rows with NaN values\n",
    "df_filtered = df.dropna()\n",
    "\n",
    "# Check the type of the gross column\n",
    "df_filtered['Gross']"
   ]
  },
  {
   "cell_type": "code",
   "execution_count": 23,
   "id": "1d6efcf8",
   "metadata": {},
   "outputs": [
    {
     "data": {
      "text/plain": [
       "(1870, 10)"
      ]
     },
     "execution_count": 23,
     "metadata": {},
     "output_type": "execute_result"
    }
   ],
   "source": [
    "# check whether the row is reduced\n",
    "df_filtered.shape\n"
   ]
  },
  {
   "cell_type": "markdown",
   "id": "8eff139d",
   "metadata": {},
   "source": [
    "After filter out the missing the data, there will be 1870 rows remaining out of the original 2000 rows."
   ]
  },
  {
   "cell_type": "code",
   "execution_count": 24,
   "id": "65db17a1",
   "metadata": {},
   "outputs": [
    {
     "data": {
      "text/plain": [
       "Text(0, 0.5, 'Gross')"
      ]
     },
     "execution_count": 24,
     "metadata": {},
     "output_type": "execute_result"
    },
    {
     "data": {
      "image/png": "[encoded data removed]",
      "text/plain": [
       "<Figure size 640x480 with 1 Axes>"
      ]
     },
     "metadata": {},
     "output_type": "display_data"
    }
   ],
   "source": [
    "plt.scatter(x=df_filtered['IMDB Rating'],y=df_filtered['Gross'])\n",
    "plt.title(\"Relationship between IMDb Rating and Gross Revenue\")\n",
    "plt.xlabel('IMDB Rating')\n",
    "plt.ylabel('Gross')"
   ]
  },
  {
   "cell_type": "code",
   "execution_count": 25,
   "id": "dd5c48d9",
   "metadata": {},
   "outputs": [
    {
     "name": "stderr",
     "output_type": "stream",
     "text": [
      "C:\\Users\\Alvin Aw\\Downloads\\AnacondaDownload\\Lib\\site-packages\\sklearn\\cluster\\_kmeans.py:1412: FutureWarning: The default value of `n_init` will change from 10 to 'auto' in 1.4. Set the value of `n_init` explicitly to suppress the warning\n",
      "  super()._check_params_vs_input(X, default_n_init=10)\n",
      "C:\\Users\\Alvin Aw\\Downloads\\AnacondaDownload\\Lib\\site-packages\\sklearn\\cluster\\_kmeans.py:1436: UserWarning: KMeans is known to have a memory leak on Windows with MKL, when there are less chunks than available threads. You can avoid it by setting the environment variable OMP_NUM_THREADS=8.\n",
      "  warnings.warn(\n",
      "C:\\Users\\Alvin Aw\\Downloads\\AnacondaDownload\\Lib\\site-packages\\sklearn\\cluster\\_kmeans.py:1412: FutureWarning: The default value of `n_init` will change from 10 to 'auto' in 1.4. Set the value of `n_init` explicitly to suppress the warning\n",
      "  super()._check_params_vs_input(X, default_n_init=10)\n",
      "C:\\Users\\Alvin Aw\\Downloads\\AnacondaDownload\\Lib\\site-packages\\sklearn\\cluster\\_kmeans.py:1436: UserWarning: KMeans is known to have a memory leak on Windows with MKL, when there are less chunks than available threads. You can avoid it by setting the environment variable OMP_NUM_THREADS=8.\n",
      "  warnings.warn(\n",
      "C:\\Users\\Alvin Aw\\Downloads\\AnacondaDownload\\Lib\\site-packages\\sklearn\\cluster\\_kmeans.py:1412: FutureWarning: The default value of `n_init` will change from 10 to 'auto' in 1.4. Set the value of `n_init` explicitly to suppress the warning\n",
      "  super()._check_params_vs_input(X, default_n_init=10)\n",
      "C:\\Users\\Alvin Aw\\Downloads\\AnacondaDownload\\Lib\\site-packages\\sklearn\\cluster\\_kmeans.py:1436: UserWarning: KMeans is known to have a memory leak on Windows with MKL, when there are less chunks than available threads. You can avoid it by setting the environment variable OMP_NUM_THREADS=8.\n",
      "  warnings.warn(\n",
      "C:\\Users\\Alvin Aw\\Downloads\\AnacondaDownload\\Lib\\site-packages\\sklearn\\cluster\\_kmeans.py:1412: FutureWarning: The default value of `n_init` will change from 10 to 'auto' in 1.4. Set the value of `n_init` explicitly to suppress the warning\n",
      "  super()._check_params_vs_input(X, default_n_init=10)\n",
      "C:\\Users\\Alvin Aw\\Downloads\\AnacondaDownload\\Lib\\site-packages\\sklearn\\cluster\\_kmeans.py:1436: UserWarning: KMeans is known to have a memory leak on Windows with MKL, when there are less chunks than available threads. You can avoid it by setting the environment variable OMP_NUM_THREADS=8.\n",
      "  warnings.warn(\n",
      "C:\\Users\\Alvin Aw\\Downloads\\AnacondaDownload\\Lib\\site-packages\\sklearn\\cluster\\_kmeans.py:1412: FutureWarning: The default value of `n_init` will change from 10 to 'auto' in 1.4. Set the value of `n_init` explicitly to suppress the warning\n",
      "  super()._check_params_vs_input(X, default_n_init=10)\n",
      "C:\\Users\\Alvin Aw\\Downloads\\AnacondaDownload\\Lib\\site-packages\\sklearn\\cluster\\_kmeans.py:1436: UserWarning: KMeans is known to have a memory leak on Windows with MKL, when there are less chunks than available threads. You can avoid it by setting the environment variable OMP_NUM_THREADS=8.\n",
      "  warnings.warn(\n",
      "C:\\Users\\Alvin Aw\\Downloads\\AnacondaDownload\\Lib\\site-packages\\sklearn\\cluster\\_kmeans.py:1412: FutureWarning: The default value of `n_init` will change from 10 to 'auto' in 1.4. Set the value of `n_init` explicitly to suppress the warning\n",
      "  super()._check_params_vs_input(X, default_n_init=10)\n",
      "C:\\Users\\Alvin Aw\\Downloads\\AnacondaDownload\\Lib\\site-packages\\sklearn\\cluster\\_kmeans.py:1436: UserWarning: KMeans is known to have a memory leak on Windows with MKL, when there are less chunks than available threads. You can avoid it by setting the environment variable OMP_NUM_THREADS=8.\n",
      "  warnings.warn(\n",
      "C:\\Users\\Alvin Aw\\Downloads\\AnacondaDownload\\Lib\\site-packages\\sklearn\\cluster\\_kmeans.py:1412: FutureWarning: The default value of `n_init` will change from 10 to 'auto' in 1.4. Set the value of `n_init` explicitly to suppress the warning\n",
      "  super()._check_params_vs_input(X, default_n_init=10)\n",
      "C:\\Users\\Alvin Aw\\Downloads\\AnacondaDownload\\Lib\\site-packages\\sklearn\\cluster\\_kmeans.py:1436: UserWarning: KMeans is known to have a memory leak on Windows with MKL, when there are less chunks than available threads. You can avoid it by setting the environment variable OMP_NUM_THREADS=8.\n",
      "  warnings.warn(\n",
      "C:\\Users\\Alvin Aw\\Downloads\\AnacondaDownload\\Lib\\site-packages\\sklearn\\cluster\\_kmeans.py:1412: FutureWarning: The default value of `n_init` will change from 10 to 'auto' in 1.4. Set the value of `n_init` explicitly to suppress the warning\n",
      "  super()._check_params_vs_input(X, default_n_init=10)\n",
      "C:\\Users\\Alvin Aw\\Downloads\\AnacondaDownload\\Lib\\site-packages\\sklearn\\cluster\\_kmeans.py:1436: UserWarning: KMeans is known to have a memory leak on Windows with MKL, when there are less chunks than available threads. You can avoid it by setting the environment variable OMP_NUM_THREADS=8.\n",
      "  warnings.warn(\n",
      "C:\\Users\\Alvin Aw\\Downloads\\AnacondaDownload\\Lib\\site-packages\\sklearn\\cluster\\_kmeans.py:1412: FutureWarning: The default value of `n_init` will change from 10 to 'auto' in 1.4. Set the value of `n_init` explicitly to suppress the warning\n",
      "  super()._check_params_vs_input(X, default_n_init=10)\n",
      "C:\\Users\\Alvin Aw\\Downloads\\AnacondaDownload\\Lib\\site-packages\\sklearn\\cluster\\_kmeans.py:1436: UserWarning: KMeans is known to have a memory leak on Windows with MKL, when there are less chunks than available threads. You can avoid it by setting the environment variable OMP_NUM_THREADS=8.\n",
      "  warnings.warn(\n"
     ]
    },
    {
     "data": {
      "image/png": "[encoded data removed]",
      "text/plain": [
       "<Figure size 640x480 with 1 Axes>"
      ]
     },
     "metadata": {},
     "output_type": "display_data"
    }
   ],
   "source": [
    "# Use sihouette scores to determine the best number of cluster\n",
    "silhouette_scores = []\n",
    "\n",
    "cluster_range = range(2, 11)\n",
    "\n",
    "# Iterate through each cluster number\n",
    "for num_clusters in cluster_range:\n",
    "    # Initialize KMeans with the current number of clusters\n",
    "    kmeans = KMeans(n_clusters = num_clusters, random_state = 42)\n",
    "    \n",
    "    # Fit KMeans to the data\n",
    "    kmeans.fit(df_filtered[['IMDB Rating', 'Gross']])\n",
    "    \n",
    "    # Calculate silhouette score\n",
    "    silhouette_avg = silhouette_score(df_filtered[['IMDB Rating', 'Gross']], kmeans.labels_)\n",
    "    silhouette_scores.append(silhouette_avg)\n",
    "\n",
    "# Plot the graph\n",
    "plt.plot(cluster_range, silhouette_scores, marker='o')\n",
    "plt.xlabel('Number of clusters')\n",
    "plt.ylabel('Silhouette score')\n",
    "plt.title('Silhouette Score for Different Numbers of Clusters')\n",
    "plt.show()"
   ]
  },
  {
   "cell_type": "markdown",
   "id": "43016e6a",
   "metadata": {},
   "source": [
    "Based on the silhouette score, it shows the best number of cluster is 2"
   ]
  },
  {
   "cell_type": "code",
   "execution_count": 26,
   "id": "82a3c193",
   "metadata": {},
   "outputs": [
    {
     "name": "stderr",
     "output_type": "stream",
     "text": [
      "C:\\Users\\Alvin Aw\\Downloads\\AnacondaDownload\\Lib\\site-packages\\sklearn\\cluster\\_kmeans.py:1412: FutureWarning: The default value of `n_init` will change from 10 to 'auto' in 1.4. Set the value of `n_init` explicitly to suppress the warning\n",
      "  super()._check_params_vs_input(X, default_n_init=10)\n",
      "C:\\Users\\Alvin Aw\\Downloads\\AnacondaDownload\\Lib\\site-packages\\sklearn\\cluster\\_kmeans.py:1436: UserWarning: KMeans is known to have a memory leak on Windows with MKL, when there are less chunks than available threads. You can avoid it by setting the environment variable OMP_NUM_THREADS=8.\n",
      "  warnings.warn(\n"
     ]
    }
   ],
   "source": [
    "# Perform k-means clustering and choosing 2 numerical features \n",
    "\n",
    "kmeans = KMeans(n_clusters= 2).fit(df_filtered[['IMDB Rating', 'Gross']])\n"
   ]
  },
  {
   "cell_type": "code",
   "execution_count": 27,
   "id": "3e182134",
   "metadata": {},
   "outputs": [
    {
     "data": {
      "text/plain": [
       "array([[  7.06790541, 199.34405405],\n",
       "       [  6.88945362,  42.17851334]])"
      ]
     },
     "execution_count": 27,
     "metadata": {},
     "output_type": "execute_result"
    }
   ],
   "source": [
    "# The Two cluster centers\n",
    "kmeans.cluster_centers_"
   ]
  },
  {
   "cell_type": "code",
   "execution_count": 28,
   "id": "4c172766",
   "metadata": {},
   "outputs": [
    {
     "data": {
      "text/plain": [
       "array([0, 1, 1, ..., 1, 1, 1])"
      ]
     },
     "execution_count": 28,
     "metadata": {},
     "output_type": "execute_result"
    }
   ],
   "source": [
    "#The cLuster labels\n",
    "kmeans.labels_"
   ]
  },
  {
   "cell_type": "markdown",
   "id": "ec202ac1",
   "metadata": {},
   "source": [
    "#### B1.3. Visualise the data as well as the results of the k-means clustering, and describe your findings about the identified clusters."
   ]
  },
  {
   "cell_type": "code",
   "execution_count": 29,
   "id": "a4573350",
   "metadata": {
    "scrolled": true
   },
   "outputs": [
    {
     "data": {
      "image/png": "[encoded data removed]",
      "text/plain": [
       "<Figure size 640x480 with 1 Axes>"
      ]
     },
     "metadata": {},
     "output_type": "display_data"
    }
   ],
   "source": [
    "# Scatter plot with cluster labels\n",
    "plt.scatter(\n",
    "    x=df_filtered['IMDB Rating'],\n",
    "    y=df_filtered['Gross'],\n",
    "    c=kmeans.labels_,\n",
    ")\n",
    "\n",
    "# Plot cluster centers\n",
    "plt.plot(\n",
    "    kmeans.cluster_centers_[:, 0],\n",
    "    kmeans.cluster_centers_[:, 1],\n",
    "    'k*',\n",
    "    markersize= 20\n",
    ")\n",
    "plt.title(\"Cluster Analysis of Movies based on IMDb Ratings and Gross Revenue\")\n",
    "plt.xlabel('IMDb Rating')\n",
    "plt.ylabel('Gross Revenue (in million USD)')\n",
    "plt.show()\n",
    "\n"
   ]
  },
  {
   "cell_type": "markdown",
   "id": "32441b57",
   "metadata": {},
   "source": [
    "Based on the visualisation on the movie data and applying K-means clustering, it shows 2 distinct clusters that represent relationship between critical acclaim, as reflected by IMDb ratings, and commercial success, measured by gross revenue. The clusters highlight different movies can have very different rating and gross value in the movie industry, showing the multifaceted nature of audience preferences and market dynamics.\n",
    "\n",
    "In Cluster 1, we can observe there are movies with IMDb ratings from 1 to 10, but gross values remain under 120 million USD. This cluster include different movie genres, including niche favorites, like documentaries or musicals, which has small but dedicated fan bases. Certain movies may prioritize artistic expression or experimental storytelling over conventional entertainment value. Thus, they might not be the cup of tea of wider audience, leading to lower IMDb ratings and low gross earning. Also, some of these movie might be lesser-known and struggle to attract broad audiences despite receiving positive reviews hence having high rating but low gross earnings.\n",
    "\n",
    "In Cluster 2, we can observe there are movies with high IMDb ratings of 5 and above, accompanied by high gross values exceeding 120 million USD. This cluster highlights blockbuster hits movies that have achieved both audiences preference and significant commercial success. This might because these movies resonate deeply with audiences, often featuring famous celebrities or superhero themes, attracting large crowds to theaters and generating huge revenue through ticket sales and merchandise sales, As a result, they receive high ratings in IMDb and high gross earnings.\n",
    "\n",
    "This segmentation can provide valuable insights into the complex relationship between audience rating on the movie and gross box office in the film industry, it shows that high ratings do not guarantee high box office success, highlighting the importance of audience preference for a movie to achieve commercially success. By looking at different clusters based on IMDb ratings and how much money they make, stakeholders in the entertainment sector can gain deeper insights into audience preferences and market trends, making strategic decisions related to film production, marketing, distribution, and investment."
   ]
  },
  {
   "cell_type": "markdown",
   "id": "42c52242",
   "metadata": {},
   "source": [
    "### Conclusion\n",
    "In summary, this report focused on using Python to analyze data and make predictions. In part A, I learned about supervised learning, differentiate between binary and multi-class classification and prepare the data by normalizing it and splitting it to training and testing dataset. After using Support Vector Machine(SVM) and Random Forest model to analyse, it shows that SVM was better at predicting music genres compared to Random Forest. The results are also submitted into a Kaggle competition.\n",
    "\n",
    "In part B, a dataset of top 2000 movies from IMDb is chosen from Kaggle. After cleaning the data, features like IMDb rating and gross value is analyse using k-means clustering to see the patterns. As a result, the findings emphasized that high ratings do not guarantee high box office success, highlighting the importance of audience preference for a movie to achieve commercially success.\n",
    "\n",
    "Overall, this report shows how Python can be used to analyze data and gain insights that could be useful for industries like music and film."
   ]
  }
 ],
 "metadata": {
  "kernelspec": {
   "display_name": "Python 3 (ipykernel)",
   "language": "python",
   "name": "python3"
  },
  "language_info": {
   "codemirror_mode": {
    "name": "ipython",
    "version": 3
   },
   "file_extension": ".py",
   "mimetype": "text/x-python",
   "name": "python",
   "nbconvert_exporter": "python",
   "pygments_lexer": "ipython3",
   "version": "3.11.5"
  }
 },
 "nbformat": 4,
 "nbformat_minor": 5
}
